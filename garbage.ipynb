{
 "cells": [
  {
   "cell_type": "code",
   "execution_count": null,
   "metadata": {},
   "outputs": [],
   "source": []
  },
  {
   "cell_type": "code",
   "execution_count": 60,
   "metadata": {},
   "outputs": [],
   "source": [
    "import tensorflow as tf\n",
    "\n",
    "from tensorflow.keras import datasets, layers, models\n",
    "import matplotlib.pyplot as plt\n",
    "from skimage import io\n",
    "import matplotlib.pyplot as plt\n",
    "import cv2\n",
    "import numpy as np\n",
    "import os\n"
   ]
  },
  {
   "cell_type": "code",
   "execution_count": 61,
   "metadata": {},
   "outputs": [
    {
     "name": "stdout",
     "output_type": "stream",
     "text": [
      "393216\n"
     ]
    },
    {
     "ename": "TypeError",
     "evalue": "can only concatenate str (not \"type\") to str",
     "output_type": "error",
     "traceback": [
      "\u001b[1;31m---------------------------------------------------------------------------\u001b[0m",
      "\u001b[1;31mTypeError\u001b[0m                                 Traceback (most recent call last)",
      "Cell \u001b[1;32mIn [61], line 15\u001b[0m\n\u001b[0;32m     11\u001b[0m         images\u001b[39m.\u001b[39mappend(imgr)\n\u001b[0;32m     13\u001b[0m     \u001b[39mreturn\u001b[39;00m images\n\u001b[1;32m---> 15\u001b[0m processImages(\u001b[39m\"\u001b[39;49m\u001b[39mhello\u001b[39;49m\u001b[39m\"\u001b[39;49m)\n",
      "Cell \u001b[1;32mIn [61], line 7\u001b[0m, in \u001b[0;36mprocessImages\u001b[1;34m(garbage_type)\u001b[0m\n\u001b[0;32m      5\u001b[0m \u001b[39mprint\u001b[39m(os\u001b[39m.\u001b[39mpath\u001b[39m.\u001b[39mgetsize(\u001b[39m'\u001b[39m\u001b[39mdataset\u001b[39m\u001b[39m\\\\\u001b[39;00m\u001b[39mbattery\u001b[39m\u001b[39m'\u001b[39m))\n\u001b[0;32m      6\u001b[0m \u001b[39mfor\u001b[39;00m i \u001b[39min\u001b[39;00m \u001b[39mrange\u001b[39m(\u001b[39m1\u001b[39m,\u001b[39m946\u001b[39m):\n\u001b[1;32m----> 7\u001b[0m     img \u001b[39m=\u001b[39m cv2\u001b[39m.\u001b[39mimread(\u001b[39m\"\u001b[39;49m\u001b[39mdataset\u001b[39;49m\u001b[39m\\\\\u001b[39;49;00m\u001b[39m\"\u001b[39;49m \u001b[39m+\u001b[39;49m \u001b[39mtype\u001b[39;49m \u001b[39m+\u001b[39m \u001b[39m\"\u001b[39m\u001b[39m\\\\\u001b[39;00m\u001b[39m\"\u001b[39m \u001b[39m+\u001b[39m \u001b[39mtype\u001b[39m \u001b[39m+\u001b[39m \u001b[39mstr\u001b[39m(i) \u001b[39m+\u001b[39m \u001b[39m\"\u001b[39m\u001b[39m.jpg\u001b[39m\u001b[39m\"\u001b[39m)\n\u001b[0;32m      8\u001b[0m     crop_min \u001b[39m=\u001b[39m \u001b[39mmin\u001b[39m(img\u001b[39m.\u001b[39mshape[\u001b[39m0\u001b[39m], img\u001b[39m.\u001b[39mshape[\u001b[39m1\u001b[39m])\n\u001b[0;32m      9\u001b[0m     imgc \u001b[39m=\u001b[39m img[\u001b[39m0\u001b[39m:crop_min, \u001b[39m0\u001b[39m:crop_min]\n",
      "\u001b[1;31mTypeError\u001b[0m: can only concatenate str (not \"type\") to str"
     ]
    }
   ],
   "source": [
    "def processImages(garbage_type):\n",
    "    # PROCESS ALL GARBAGE IMAGE CLASSES\n",
    "    # resize them to fit a (32, 32, 3) pixels\n",
    "    images = []\n",
    "    print(os.path.getsize('dataset\\\\battery'))\n",
    "    for i in range(1,946):\n",
    "        img = cv2.imread(\"dataset\\\\\" + type + \"\\\\\" + type + str(i) + \".jpg\")\n",
    "        crop_min = min(img.shape[0], img.shape[1])\n",
    "        imgc = img[0:crop_min, 0:crop_min]\n",
    "        imgr = cv2.resize(imgc, (32, 32), interpolation = cv2.INTER_AREA)\n",
    "        images.append(imgr)\n",
    "    \n",
    "    return images\n",
    "\n",
    "processImages(\"hello\")\n"
   ]
  },
  {
   "cell_type": "code",
   "execution_count": null,
   "metadata": {},
   "outputs": [],
   "source": [
    "\n",
    "model = models.Sequential()\n",
    "model.add(layers.Conv2D(32, (3, 3), activation='relu', input_shape=(32, 32, 3)))\n",
    "model.add(layers.MaxPooling2D((2, 2)))\n",
    "model.add(layers.Conv2D(64, (3, 3), activation='relu'))\n",
    "model.add(layers.MaxPooling2D((2, 2)))\n",
    "model.add(layers.Conv2D(64, (3, 3), activation='relu'))"
   ]
  },
  {
   "cell_type": "code",
   "execution_count": null,
   "metadata": {},
   "outputs": [],
   "source": []
  }
 ],
 "metadata": {
  "kernelspec": {
   "display_name": "Python 3.10.1 64-bit",
   "language": "python",
   "name": "python3"
  },
  "language_info": {
   "codemirror_mode": {
    "name": "ipython",
    "version": 3
   },
   "file_extension": ".py",
   "mimetype": "text/x-python",
   "name": "python",
   "nbconvert_exporter": "python",
   "pygments_lexer": "ipython3",
   "version": "3.10.1"
  },
  "orig_nbformat": 4,
  "vscode": {
   "interpreter": {
    "hash": "4dbbd18073a0d739d7b0f9ae57732e9b52451f62369719e520a2412a15bc1c63"
   }
  }
 },
 "nbformat": 4,
 "nbformat_minor": 2
}
